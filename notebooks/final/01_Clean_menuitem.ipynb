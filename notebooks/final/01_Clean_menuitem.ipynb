{
 "cells": [
  {
   "cell_type": "code",
   "execution_count": 1,
   "metadata": {},
   "outputs": [],
   "source": [
    "import pandas as pd\n",
    "import matplotlib.pyplot as plt\n",
    "import seaborn as sns\n",
    "from datetime import datetime\n",
    "\n",
    "import sys\n",
    "import os\n",
    "sys.path.append('/Users/sonnguyen/Dropbox/My Mac (Son’s MacBook Air)/Documents/1. Data Analytics/CoderSchool/FinalProject/scripts/')\n",
    "import data_cleaning"
   ]
  },
  {
   "cell_type": "code",
   "execution_count": 2,
   "metadata": {},
   "outputs": [],
   "source": [
    "df = pd.read_csv('/Users/sonnguyen/Dropbox/My Mac (Son’s MacBook Air)/Documents/1. Data Analytics/CoderSchool/FinalProject/data/raw/menuitem.csv')"
   ]
  },
  {
   "cell_type": "code",
   "execution_count": 3,
   "metadata": {},
   "outputs": [
    {
     "data": {
      "text/html": [
       "<div>\n",
       "<style scoped>\n",
       "    .dataframe tbody tr th:only-of-type {\n",
       "        vertical-align: middle;\n",
       "    }\n",
       "\n",
       "    .dataframe tbody tr th {\n",
       "        vertical-align: top;\n",
       "    }\n",
       "\n",
       "    .dataframe thead th {\n",
       "        text-align: right;\n",
       "    }\n",
       "</style>\n",
       "<table border=\"1\" class=\"dataframe\">\n",
       "  <thead>\n",
       "    <tr style=\"text-align: right;\">\n",
       "      <th></th>\n",
       "      <th>MD5KEY_MENUITEM</th>\n",
       "      <th>MD5KEY_ORDERSALE</th>\n",
       "      <th>CategoryDescription</th>\n",
       "      <th>DepartmentDescription</th>\n",
       "      <th>Description</th>\n",
       "      <th>StoreNumber</th>\n",
       "      <th>TaxInclusiveAmount</th>\n",
       "      <th>TaxAmount</th>\n",
       "      <th>AdjustedPrice</th>\n",
       "      <th>DiscountAmount</th>\n",
       "      <th>Price</th>\n",
       "      <th>Quantity</th>\n",
       "      <th>PLU</th>\n",
       "      <th>Id</th>\n",
       "      <th>date</th>\n",
       "    </tr>\n",
       "  </thead>\n",
       "  <tbody>\n",
       "    <tr>\n",
       "      <th>0</th>\n",
       "      <td>001E0224E4EDA63D6FED96D59E0C1E76</td>\n",
       "      <td>072D3B76BE58E4553A373AF3206D2CA5</td>\n",
       "      <td>Footlong</td>\n",
       "      <td>Footlong Sub</td>\n",
       "      <td>Chickn Strips FtLong</td>\n",
       "      <td>46673</td>\n",
       "      <td>0</td>\n",
       "      <td>0.6975</td>\n",
       "      <td>7.75</td>\n",
       "      <td>0.00</td>\n",
       "      <td>7.75</td>\n",
       "      <td>1</td>\n",
       "      <td>111000041</td>\n",
       "      <td>326</td>\n",
       "      <td>15-03-05</td>\n",
       "    </tr>\n",
       "    <tr>\n",
       "      <th>1</th>\n",
       "      <td>003E4E20196B2F5BDD33CE06D2943EF4</td>\n",
       "      <td>14811D4F3458058007B0B6908C2DA393</td>\n",
       "      <td>Fountain</td>\n",
       "      <td>Fountain Drink 21 oz.</td>\n",
       "      <td>21oz Fountain Drink</td>\n",
       "      <td>46673</td>\n",
       "      <td>0</td>\n",
       "      <td>0.1530</td>\n",
       "      <td>1.70</td>\n",
       "      <td>0.00</td>\n",
       "      <td>1.70</td>\n",
       "      <td>1</td>\n",
       "      <td>212000126</td>\n",
       "      <td>280</td>\n",
       "      <td>15-03-05</td>\n",
       "    </tr>\n",
       "    <tr>\n",
       "      <th>2</th>\n",
       "      <td>012A55E5551C95A559A7B074AE85117E</td>\n",
       "      <td>22FA6C39B7A15ABB6EB568E66A6B30E1</td>\n",
       "      <td>6 Inch</td>\n",
       "      <td>6 Inch Sub</td>\n",
       "      <td>B.M.T. 6 inch</td>\n",
       "      <td>12631</td>\n",
       "      <td>0</td>\n",
       "      <td>0.3230</td>\n",
       "      <td>3.64</td>\n",
       "      <td>0.61</td>\n",
       "      <td>4.25</td>\n",
       "      <td>1</td>\n",
       "      <td>121000008</td>\n",
       "      <td>8</td>\n",
       "      <td>15-03-05</td>\n",
       "    </tr>\n",
       "    <tr>\n",
       "      <th>3</th>\n",
       "      <td>01B07F1C6DC6945796571FC78735DA16</td>\n",
       "      <td>915B69612845BBD974C39AC105F5CA8C</td>\n",
       "      <td>6 Inch</td>\n",
       "      <td>6 Inch Sub</td>\n",
       "      <td>Veggie Delite 6 inch</td>\n",
       "      <td>12631</td>\n",
       "      <td>0</td>\n",
       "      <td>0.3328</td>\n",
       "      <td>3.75</td>\n",
       "      <td>0.00</td>\n",
       "      <td>3.75</td>\n",
       "      <td>1</td>\n",
       "      <td>121000001</td>\n",
       "      <td>91</td>\n",
       "      <td>15-03-05</td>\n",
       "    </tr>\n",
       "    <tr>\n",
       "      <th>4</th>\n",
       "      <td>02DE19974DE5304BF243A1C2EC639495</td>\n",
       "      <td>CD6386C802450EDCF13A3D112D1F86EC</td>\n",
       "      <td>Add On</td>\n",
       "      <td>Add On 6in Portion</td>\n",
       "      <td>Avocado Add6in</td>\n",
       "      <td>12631</td>\n",
       "      <td>0</td>\n",
       "      <td>0.0443</td>\n",
       "      <td>0.50</td>\n",
       "      <td>0.00</td>\n",
       "      <td>0.50</td>\n",
       "      <td>1</td>\n",
       "      <td>175000062</td>\n",
       "      <td>564</td>\n",
       "      <td>15-03-05</td>\n",
       "    </tr>\n",
       "  </tbody>\n",
       "</table>\n",
       "</div>"
      ],
      "text/plain": [
       "                    MD5KEY_MENUITEM                  MD5KEY_ORDERSALE  \\\n",
       "0  001E0224E4EDA63D6FED96D59E0C1E76  072D3B76BE58E4553A373AF3206D2CA5   \n",
       "1  003E4E20196B2F5BDD33CE06D2943EF4  14811D4F3458058007B0B6908C2DA393   \n",
       "2  012A55E5551C95A559A7B074AE85117E  22FA6C39B7A15ABB6EB568E66A6B30E1   \n",
       "3  01B07F1C6DC6945796571FC78735DA16  915B69612845BBD974C39AC105F5CA8C   \n",
       "4  02DE19974DE5304BF243A1C2EC639495  CD6386C802450EDCF13A3D112D1F86EC   \n",
       "\n",
       "  CategoryDescription         DepartmentDescription  \\\n",
       "0    Footlong          Footlong Sub                   \n",
       "1    Fountain          Fountain Drink 21 oz.          \n",
       "2    6 Inch            6 Inch Sub                     \n",
       "3    6 Inch            6 Inch Sub                     \n",
       "4    Add On            Add On 6in Portion             \n",
       "\n",
       "                                  Description  StoreNumber  \\\n",
       "0  Chickn Strips FtLong                              46673   \n",
       "1  21oz Fountain Drink                               46673   \n",
       "2  B.M.T. 6 inch                                     12631   \n",
       "3  Veggie Delite 6 inch                              12631   \n",
       "4  Avocado Add6in                                    12631   \n",
       "\n",
       "   TaxInclusiveAmount  TaxAmount  AdjustedPrice  DiscountAmount  Price  \\\n",
       "0                   0     0.6975           7.75            0.00   7.75   \n",
       "1                   0     0.1530           1.70            0.00   1.70   \n",
       "2                   0     0.3230           3.64            0.61   4.25   \n",
       "3                   0     0.3328           3.75            0.00   3.75   \n",
       "4                   0     0.0443           0.50            0.00   0.50   \n",
       "\n",
       "   Quantity        PLU   Id      date  \n",
       "0         1  111000041  326  15-03-05  \n",
       "1         1  212000126  280  15-03-05  \n",
       "2         1  121000008    8  15-03-05  \n",
       "3         1  121000001   91  15-03-05  \n",
       "4         1  175000062  564  15-03-05  "
      ]
     },
     "execution_count": 3,
     "metadata": {},
     "output_type": "execute_result"
    }
   ],
   "source": [
    "df.head()"
   ]
  },
  {
   "cell_type": "markdown",
   "metadata": {},
   "source": [
    "# Check dữ liệu"
   ]
  },
  {
   "cell_type": "markdown",
   "metadata": {},
   "source": [
    "## Kiểm tra kiểu dữ liệu"
   ]
  },
  {
   "cell_type": "code",
   "execution_count": 4,
   "metadata": {},
   "outputs": [
    {
     "name": "stdout",
     "output_type": "stream",
     "text": [
      "<class 'pandas.core.frame.DataFrame'>\n",
      "RangeIndex: 91431 entries, 0 to 91430\n",
      "Data columns (total 15 columns):\n",
      " #   Column                 Non-Null Count  Dtype  \n",
      "---  ------                 --------------  -----  \n",
      " 0   MD5KEY_MENUITEM        91431 non-null  object \n",
      " 1   MD5KEY_ORDERSALE       91431 non-null  object \n",
      " 2   CategoryDescription    91431 non-null  object \n",
      " 3   DepartmentDescription  91431 non-null  object \n",
      " 4   Description            91431 non-null  object \n",
      " 5   StoreNumber            91431 non-null  int64  \n",
      " 6   TaxInclusiveAmount     91431 non-null  int64  \n",
      " 7   TaxAmount              91431 non-null  float64\n",
      " 8   AdjustedPrice          91431 non-null  float64\n",
      " 9   DiscountAmount         91431 non-null  float64\n",
      " 10  Price                  91431 non-null  float64\n",
      " 11  Quantity               91431 non-null  int64  \n",
      " 12  PLU                    91431 non-null  int64  \n",
      " 13  Id                     91431 non-null  int64  \n",
      " 14  date                   91431 non-null  object \n",
      "dtypes: float64(4), int64(5), object(6)\n",
      "memory usage: 10.5+ MB\n"
     ]
    }
   ],
   "source": [
    "# Check kiểu dữ liệu\n",
    "df.info()"
   ]
  },
  {
   "cell_type": "markdown",
   "metadata": {},
   "source": [
    "## Check giá trị thiếu"
   ]
  },
  {
   "cell_type": "code",
   "execution_count": 5,
   "metadata": {},
   "outputs": [
    {
     "data": {
      "text/plain": [
       "MD5KEY_MENUITEM          0\n",
       "MD5KEY_ORDERSALE         0\n",
       "CategoryDescription      0\n",
       "DepartmentDescription    0\n",
       "Description              0\n",
       "StoreNumber              0\n",
       "TaxInclusiveAmount       0\n",
       "TaxAmount                0\n",
       "AdjustedPrice            0\n",
       "DiscountAmount           0\n",
       "Price                    0\n",
       "Quantity                 0\n",
       "PLU                      0\n",
       "Id                       0\n",
       "date                     0\n",
       "dtype: int64"
      ]
     },
     "execution_count": 5,
     "metadata": {},
     "output_type": "execute_result"
    }
   ],
   "source": [
    "# Check null\n",
    "df.isna().sum()"
   ]
  },
  {
   "cell_type": "markdown",
   "metadata": {},
   "source": [
    "## Check trùng lặp"
   ]
  },
  {
   "cell_type": "code",
   "execution_count": 6,
   "metadata": {},
   "outputs": [
    {
     "data": {
      "text/plain": [
       "0"
      ]
     },
     "execution_count": 6,
     "metadata": {},
     "output_type": "execute_result"
    }
   ],
   "source": [
    "# check giá trị trùng lặp\n",
    "df.duplicated().sum()"
   ]
  },
  {
   "cell_type": "markdown",
   "metadata": {},
   "source": [
    "## Kiểm tra giá trị ngoại lai"
   ]
  },
  {
   "cell_type": "code",
   "execution_count": 7,
   "metadata": {},
   "outputs": [
    {
     "data": {
      "text/plain": [
       "Index(['MD5KEY_MENUITEM', 'MD5KEY_ORDERSALE', 'CategoryDescription',\n",
       "       'DepartmentDescription', 'Description', 'StoreNumber',\n",
       "       'TaxInclusiveAmount', 'TaxAmount', 'AdjustedPrice', 'DiscountAmount',\n",
       "       'Price', 'Quantity', 'PLU', 'Id', 'date'],\n",
       "      dtype='object')"
      ]
     },
     "execution_count": 7,
     "metadata": {},
     "output_type": "execute_result"
    }
   ],
   "source": [
    "df.columns"
   ]
  },
  {
   "cell_type": "code",
   "execution_count": 24,
   "metadata": {},
   "outputs": [
    {
     "data": {
      "image/png": "[encoded data removed]",
      "text/plain": [
       "<Figure size 1500x1500 with 6 Axes>"
      ]
     },
     "metadata": {},
     "output_type": "display_data"
    }
   ],
   "source": [
    "df_boxplt = df[['TaxAmount', 'AdjustedPrice', 'DiscountAmount', 'Price', 'Quantity', 'SalesAmount']]\n",
    "\n",
    "# Tạo figure và các axes con với 3 hàng và 2 cột\n",
    "fig, axes = plt.subplots(nrows=3, ncols=2, figsize=(15, 15))\n",
    "\n",
    "# Flatten the axes array for easy iteration\n",
    "axes = axes.flatten()\n",
    "\n",
    "# Vẽ từng boxplot vào từng subplot riêng biệt\n",
    "for ax, column in zip(axes, df_boxplt):\n",
    "    df.boxplot(column=column, ax=ax)\n",
    "    ax.set_title(f'Boxplot of {column}')\n",
    "    ax.set_xlabel('Columns')\n",
    "    ax.set_ylabel('Values')\n",
    "\n",
    "# Ẩn các subplot không sử dụng nếu có\n",
    "for i in range(len(df_boxplt), len(axes)):\n",
    "    fig.delaxes(axes[i])\n",
    "\n",
    "# Tối ưu khoảng cách giữa các subplot\n",
    "plt.tight_layout()\n",
    "plt.show()"
   ]
  },
  {
   "cell_type": "markdown",
   "metadata": {},
   "source": [
    "### Kiểm tra outliers Quantity"
   ]
  },
  {
   "cell_type": "code",
   "execution_count": 57,
   "metadata": {},
   "outputs": [
    {
     "name": "stdout",
     "output_type": "stream",
     "text": [
      "Số hàng df: 91430\n",
      "Số hàng outliers: 6864\n",
      "% outliers: 7.507382697145356\n",
      "Tổng doanh thu: 422626.30000000005\n",
      "Tổng doanh thu outliers: 135857.33\n",
      "% doanh thu outliers: 32.14597151194802\n"
     ]
    }
   ],
   "source": [
    "# Tính Q1 (25th percentile) và Q3 (75th percentile)\n",
    "Q1 = df['Quantity'].quantile(0.25)\n",
    "Q3 = df['Quantity'].quantile(0.75)\n",
    "\n",
    "# Tính IQR\n",
    "IQR = Q3 - Q1\n",
    "\n",
    "# Xác định giới hạn dưới và trên\n",
    "lower_bound = Q1 - 1.5 * IQR\n",
    "upper_bound = Q3 + 1.5 * IQR\n",
    "\n",
    "# Xác định giá trị ngoại lai\n",
    "outliers = df[(df['Quantity'] < lower_bound) | (df['Quantity'] > upper_bound)]\n",
    "\n",
    "print(\"Số hàng df:\", df.shape[0])\n",
    "print(\"Số hàng outliers:\", outliers.shape[0])\n",
    "print(\"% outliers:\", outliers.shape[0]/df.shape[0]*100)\n",
    "print(\"Tổng doanh thu:\", df['SalesAmount'].sum())\n",
    "print(\"Tổng doanh thu outliers:\", outliers['SalesAmount'].sum())\n",
    "print(\"% doanh thu outliers:\", outliers['SalesAmount'].sum()/df['SalesAmount'].sum()*100)"
   ]
  },
  {
   "cell_type": "markdown",
   "metadata": {},
   "source": [
    "### Kiểm tra outliers Price"
   ]
  },
  {
   "cell_type": "code",
   "execution_count": 26,
   "metadata": {},
   "outputs": [
    {
     "name": "stdout",
     "output_type": "stream",
     "text": [
      "Số hàng df: 91430\n",
      "Số hàng outliers: 46\n",
      "% outliers: 0.05031171387947063\n",
      "Tổng doanh thu: 422626.30000000005\n",
      "Tổng doanh thu outliers: 2834.0\n",
      "% doanh thu outliers: 0.6705687743521876\n"
     ]
    }
   ],
   "source": [
    "# Tính Q1 (25th percentile) và Q3 (75th percentile)\n",
    "Q1_Price = df['Price'].quantile(0.25)\n",
    "Q3_Price = df['Price'].quantile(0.75)\n",
    "\n",
    "# Tính IQR\n",
    "IQR_Price = Q3_Price - Q1_Price\n",
    "\n",
    "# Xác định giới hạn dưới và trên\n",
    "lower_bound_Price = Q1_Price - 1.5 * IQR_Price\n",
    "upper_bound_Price = Q3_Price + 1.5 * IQR_Price\n",
    "\n",
    "# Xác định giá trị ngoại lai\n",
    "outliers_Price = df[(df['Price'] < lower_bound_Price) | (df['Price'] > upper_bound_Price)]\n",
    "\n",
    "print(\"Số hàng df:\", df.shape[0])\n",
    "print(\"Số hàng outliers:\", outliers_Price.shape[0])\n",
    "print(\"% outliers:\", outliers_Price.shape[0]/df.shape[0]*100)\n",
    "print(\"Tổng doanh thu:\", df['SalesAmount'].sum())\n",
    "print(\"Tổng doanh thu outliers:\", outliers_Price['SalesAmount'].sum())\n",
    "print(\"% doanh thu outliers:\", outliers_Price['SalesAmount'].sum()/df['SalesAmount'].sum()*100)"
   ]
  },
  {
   "cell_type": "markdown",
   "metadata": {},
   "source": [
    "### Kiểm tra outliers DiscountAmount"
   ]
  },
  {
   "cell_type": "code",
   "execution_count": 27,
   "metadata": {},
   "outputs": [
    {
     "name": "stdout",
     "output_type": "stream",
     "text": [
      "Số hàng df: 91430\n",
      "Số hàng outliers: 11615\n",
      "% outliers: 12.703707754566334\n",
      "Tổng doanh thu: 422626.30000000005\n",
      "Tổng doanh thu outliers: 65596.59\n",
      "% doanh thu outliers: 15.521180295689122\n",
      "Doanh trung bình outliers: 5.647575548859233\n",
      "Trung bình giá món ăn trong outliers: 5.228069658085598\n"
     ]
    }
   ],
   "source": [
    "# Tính Q1 (25th percentile) và Q3 (75th percentile)\n",
    "Q1_Discount = df['DiscountAmount'].quantile(0.25)\n",
    "Q3_Discount = df['DiscountAmount'].quantile(0.75)\n",
    "\n",
    "# Tính IQR\n",
    "IQR_Discount = Q3_Discount - Q1_Discount\n",
    "\n",
    "# Xác định giới hạn dưới và trên\n",
    "lower_bound_Discount = Q1_Discount - 1.5 * IQR_Discount\n",
    "upper_bound_Discount = Q3_Discount + 1.5 * IQR_Discount\n",
    "\n",
    "# Xác định giá trị ngoại lai\n",
    "outliers_Discount = df[(df['DiscountAmount'] < lower_bound_Discount) | (df['DiscountAmount'] > upper_bound_Discount)]\n",
    "\n",
    "print(\"Số hàng df:\", df.shape[0])\n",
    "print(\"Số hàng outliers:\", outliers_Discount.shape[0])\n",
    "print(\"% outliers:\", outliers_Discount.shape[0]/df.shape[0]*100)\n",
    "print(\"Tổng doanh thu:\", df['SalesAmount'].sum())\n",
    "print(\"Tổng doanh thu outliers:\", outliers_Discount['SalesAmount'].sum())\n",
    "print(\"% doanh thu outliers:\", outliers_Discount['SalesAmount'].sum()/df['SalesAmount'].sum()*100)\n",
    "print(\"Doanh trung bình outliers:\", outliers_Discount['SalesAmount'].mean())\n",
    "print(\"Trung bình giá món ăn trong outliers:\", outliers_Discount['SalesAmount'].sum()/outliers_Discount['Quantity'].sum())"
   ]
  },
  {
   "cell_type": "code",
   "execution_count": null,
   "metadata": {},
   "outputs": [
    {
     "data": {
      "image/png": "[encoded data removed]",
      "text/plain": [
       "<Figure size 2000x1000 with 2 Axes>"
      ]
     },
     "metadata": {},
     "output_type": "display_data"
    }
   ],
   "source": [
    "plt.figure(figsize=(20, 10))\n",
    "\n",
    "plt.subplot(2, 1, 1)\n",
    "sns.barplot(df[df['SalesAmount'] >= 5.2],\n",
    "             x='date',\n",
    "             y='Quantity')\n",
    "plt.xticks(rotation=90, ha='center')\n",
    "\n",
    "plt.subplot(2, 1, 2)\n",
    "sns.barplot(df[df['SalesAmount'] >= 5.2],\n",
    "             x='date',\n",
    "             y='SalesAmount')\n",
    "plt.xticks(rotation=90, ha='center')\n",
    "plt.show()"
   ]
  },
  {
   "cell_type": "code",
   "execution_count": 62,
   "metadata": {},
   "outputs": [
    {
     "name": "stdout",
     "output_type": "stream",
     "text": [
      "1.0\n",
      "1.0\n",
      "-4.5\n",
      "11.5\n",
      "-0.195\n",
      "0.325\n"
     ]
    }
   ],
   "source": [
    "print(lower_bound)\n",
    "print(upper_bound)\n",
    "print(lower_bound_Price)\n",
    "print(upper_bound_Price)\n",
    "print(lower_bound_Discount)\n",
    "print(upper_bound_Discount)"
   ]
  },
  {
   "cell_type": "code",
   "execution_count": 60,
   "metadata": {},
   "outputs": [
    {
     "data": {
      "image/png": "[encoded data removed]",
      "text/plain": [
       "<Figure size 2000x1000 with 2 Axes>"
      ]
     },
     "metadata": {},
     "output_type": "display_data"
    }
   ],
   "source": [
    "plt.figure(figsize=(20, 10))\n",
    "\n",
    "plt.subplot(2, 1, 1)\n",
    "sns.barplot(df[(df['Quantity'] > lower_bound) | (df['Quantity'] < upper_bound)],\n",
    "             x='date',\n",
    "             y='Quantity')\n",
    "plt.xticks(rotation=90, ha='center')\n",
    "\n",
    "plt.subplot(2, 1, 2)\n",
    "sns.barplot(df[(df['SalesAmount'] > lower_bound_Price) | (df['SalesAmount'] < upper_bound_Price)],\n",
    "             x='date',\n",
    "             y='SalesAmount')\n",
    "plt.xticks(rotation=90, ha='center')\n",
    "plt.show()"
   ]
  },
  {
   "cell_type": "code",
   "execution_count": 28,
   "metadata": {},
   "outputs": [
    {
     "name": "stdout",
     "output_type": "stream",
     "text": [
      "[ 1  2  3 75  4]\n"
     ]
    }
   ],
   "source": [
    "df_16 = df[df['date'] == '2015-5-16']\n",
    "print(df_16['Quantity'].unique())"
   ]
  },
  {
   "cell_type": "code",
   "execution_count": 35,
   "metadata": {},
   "outputs": [
    {
     "data": {
      "text/html": [
       "<div>\n",
       "<style scoped>\n",
       "    .dataframe tbody tr th:only-of-type {\n",
       "        vertical-align: middle;\n",
       "    }\n",
       "\n",
       "    .dataframe tbody tr th {\n",
       "        vertical-align: top;\n",
       "    }\n",
       "\n",
       "    .dataframe thead th {\n",
       "        text-align: right;\n",
       "    }\n",
       "</style>\n",
       "<table border=\"1\" class=\"dataframe\">\n",
       "  <thead>\n",
       "    <tr style=\"text-align: right;\">\n",
       "      <th></th>\n",
       "      <th>MD5KEY_MENUITEM</th>\n",
       "      <th>MD5KEY_ORDERSALE</th>\n",
       "      <th>CategoryDescription</th>\n",
       "      <th>DepartmentDescription</th>\n",
       "      <th>Description</th>\n",
       "      <th>StoreNumber</th>\n",
       "      <th>TaxAmount</th>\n",
       "      <th>AdjustedPrice</th>\n",
       "      <th>DiscountAmount</th>\n",
       "      <th>Price</th>\n",
       "      <th>Quantity</th>\n",
       "      <th>PLU</th>\n",
       "      <th>Id</th>\n",
       "      <th>date</th>\n",
       "      <th>SalesAmount</th>\n",
       "    </tr>\n",
       "  </thead>\n",
       "  <tbody>\n",
       "    <tr>\n",
       "      <th>63798</th>\n",
       "      <td>7AFF6F9A39CC2CBBD33DFFFDF213DA88</td>\n",
       "      <td>B6BA5DC2E5670B796E57C435A64E8E60</td>\n",
       "      <td>Footlong</td>\n",
       "      <td>Footlong Sub</td>\n",
       "      <td>Turkey FtLong</td>\n",
       "      <td>4904</td>\n",
       "      <td>43.0312</td>\n",
       "      <td>506.25</td>\n",
       "      <td>0.0</td>\n",
       "      <td>6.75</td>\n",
       "      <td>75</td>\n",
       "      <td>111000012</td>\n",
       "      <td>12</td>\n",
       "      <td>2015-05-16</td>\n",
       "      <td>37968.75</td>\n",
       "    </tr>\n",
       "  </tbody>\n",
       "</table>\n",
       "</div>"
      ],
      "text/plain": [
       "                        MD5KEY_MENUITEM                  MD5KEY_ORDERSALE  \\\n",
       "63798  7AFF6F9A39CC2CBBD33DFFFDF213DA88  B6BA5DC2E5670B796E57C435A64E8E60   \n",
       "\n",
       "      CategoryDescription         DepartmentDescription  \\\n",
       "63798    Footlong          Footlong Sub                   \n",
       "\n",
       "                                      Description  StoreNumber  TaxAmount  \\\n",
       "63798  Turkey FtLong                                      4904    43.0312   \n",
       "\n",
       "       AdjustedPrice  DiscountAmount  Price  Quantity        PLU  Id  \\\n",
       "63798         506.25             0.0   6.75        75  111000012  12   \n",
       "\n",
       "            date  SalesAmount  \n",
       "63798 2015-05-16     37968.75  "
      ]
     },
     "execution_count": 35,
     "metadata": {},
     "output_type": "execute_result"
    }
   ],
   "source": [
    "df_16[df_16['Quantity'] == 75]"
   ]
  },
  {
   "cell_type": "code",
   "execution_count": 36,
   "metadata": {},
   "outputs": [
    {
     "name": "stdout",
     "output_type": "stream",
     "text": [
      "[ 1  2 45  4  3  6 60]\n"
     ]
    }
   ],
   "source": [
    "df_23 = df[df['date'] == '2015-5-23']\n",
    "print(df_23['Quantity'].unique())"
   ]
  },
  {
   "cell_type": "code",
   "execution_count": 37,
   "metadata": {},
   "outputs": [
    {
     "data": {
      "text/html": [
       "<div>\n",
       "<style scoped>\n",
       "    .dataframe tbody tr th:only-of-type {\n",
       "        vertical-align: middle;\n",
       "    }\n",
       "\n",
       "    .dataframe tbody tr th {\n",
       "        vertical-align: top;\n",
       "    }\n",
       "\n",
       "    .dataframe thead th {\n",
       "        text-align: right;\n",
       "    }\n",
       "</style>\n",
       "<table border=\"1\" class=\"dataframe\">\n",
       "  <thead>\n",
       "    <tr style=\"text-align: right;\">\n",
       "      <th></th>\n",
       "      <th>MD5KEY_MENUITEM</th>\n",
       "      <th>MD5KEY_ORDERSALE</th>\n",
       "      <th>CategoryDescription</th>\n",
       "      <th>DepartmentDescription</th>\n",
       "      <th>Description</th>\n",
       "      <th>StoreNumber</th>\n",
       "      <th>TaxAmount</th>\n",
       "      <th>AdjustedPrice</th>\n",
       "      <th>DiscountAmount</th>\n",
       "      <th>Price</th>\n",
       "      <th>Quantity</th>\n",
       "      <th>PLU</th>\n",
       "      <th>Id</th>\n",
       "      <th>date</th>\n",
       "      <th>SalesAmount</th>\n",
       "    </tr>\n",
       "  </thead>\n",
       "  <tbody>\n",
       "    <tr>\n",
       "      <th>69643</th>\n",
       "      <td>120875AC5766ED916C913794EA77BC50</td>\n",
       "      <td>68CBE43FC25B5EE67846D4489638732C</td>\n",
       "      <td>Footlong</td>\n",
       "      <td>Footlong Sub</td>\n",
       "      <td>Big Hot Pastrami FtLong</td>\n",
       "      <td>4904</td>\n",
       "      <td>29.07</td>\n",
       "      <td>342.0</td>\n",
       "      <td>29.25</td>\n",
       "      <td>8.25</td>\n",
       "      <td>45</td>\n",
       "      <td>111000026</td>\n",
       "      <td>142</td>\n",
       "      <td>2015-05-23</td>\n",
       "      <td>15390.0</td>\n",
       "    </tr>\n",
       "    <tr>\n",
       "      <th>70093</th>\n",
       "      <td>CED03E3D17732D7A30CF169E574AC9F9</td>\n",
       "      <td>68CBE43FC25B5EE67846D4489638732C</td>\n",
       "      <td>Chips</td>\n",
       "      <td>Chips</td>\n",
       "      <td>Chips</td>\n",
       "      <td>4904</td>\n",
       "      <td>5.61</td>\n",
       "      <td>66.0</td>\n",
       "      <td>6.00</td>\n",
       "      <td>1.20</td>\n",
       "      <td>60</td>\n",
       "      <td>311000100</td>\n",
       "      <td>277</td>\n",
       "      <td>2015-05-23</td>\n",
       "      <td>3960.0</td>\n",
       "    </tr>\n",
       "  </tbody>\n",
       "</table>\n",
       "</div>"
      ],
      "text/plain": [
       "                        MD5KEY_MENUITEM                  MD5KEY_ORDERSALE  \\\n",
       "69643  120875AC5766ED916C913794EA77BC50  68CBE43FC25B5EE67846D4489638732C   \n",
       "70093  CED03E3D17732D7A30CF169E574AC9F9  68CBE43FC25B5EE67846D4489638732C   \n",
       "\n",
       "      CategoryDescription DepartmentDescription              Description  \\\n",
       "69643            Footlong          Footlong Sub  Big Hot Pastrami FtLong   \n",
       "70093               Chips                 Chips                    Chips   \n",
       "\n",
       "       StoreNumber  TaxAmount  AdjustedPrice  DiscountAmount  Price  Quantity  \\\n",
       "69643         4904      29.07          342.0           29.25   8.25        45   \n",
       "70093         4904       5.61           66.0            6.00   1.20        60   \n",
       "\n",
       "             PLU   Id       date  SalesAmount  \n",
       "69643  111000026  142 2015-05-23      15390.0  \n",
       "70093  311000100  277 2015-05-23       3960.0  "
      ]
     },
     "execution_count": 37,
     "metadata": {},
     "output_type": "execute_result"
    }
   ],
   "source": [
    "df_23[df_23['Quantity'] >= 45]"
   ]
  },
  {
   "cell_type": "markdown",
   "metadata": {},
   "source": [
    "## Kiểm tra phân phối dữ liệu\n"
   ]
  },
  {
   "cell_type": "code",
   "execution_count": 31,
   "metadata": {},
   "outputs": [
    {
     "data": {
      "text/plain": [
       "Index(['StoreNumber', 'TaxAmount', 'AdjustedPrice', 'DiscountAmount', 'Price',\n",
       "       'Quantity', 'PLU', 'Id', 'SalesAmount'],\n",
       "      dtype='object')"
      ]
     },
     "execution_count": 31,
     "metadata": {},
     "output_type": "execute_result"
    }
   ],
   "source": [
    "# Lọc các trường số\n",
    "columns_num = df.select_dtypes(include=['int', 'float']).columns\n",
    "columns_num"
   ]
  },
  {
   "cell_type": "code",
   "execution_count": 15,
   "metadata": {},
   "outputs": [
    {
     "data": {
      "text/html": [
       "<div>\n",
       "<style scoped>\n",
       "    .dataframe tbody tr th:only-of-type {\n",
       "        vertical-align: middle;\n",
       "    }\n",
       "\n",
       "    .dataframe tbody tr th {\n",
       "        vertical-align: top;\n",
       "    }\n",
       "\n",
       "    .dataframe thead th {\n",
       "        text-align: right;\n",
       "    }\n",
       "</style>\n",
       "<table border=\"1\" class=\"dataframe\">\n",
       "  <thead>\n",
       "    <tr style=\"text-align: right;\">\n",
       "      <th></th>\n",
       "      <th>StoreNumber</th>\n",
       "      <th>TaxInclusiveAmount</th>\n",
       "      <th>TaxAmount</th>\n",
       "      <th>AdjustedPrice</th>\n",
       "      <th>DiscountAmount</th>\n",
       "      <th>Price</th>\n",
       "      <th>Quantity</th>\n",
       "      <th>PLU</th>\n",
       "      <th>Id</th>\n",
       "    </tr>\n",
       "  </thead>\n",
       "  <tbody>\n",
       "    <tr>\n",
       "      <th>count</th>\n",
       "      <td>91431.000000</td>\n",
       "      <td>91431.0</td>\n",
       "      <td>91431.000000</td>\n",
       "      <td>91431.000000</td>\n",
       "      <td>91431.000000</td>\n",
       "      <td>91431.000000</td>\n",
       "      <td>91431.000000</td>\n",
       "      <td>9.143100e+04</td>\n",
       "      <td>91431.000000</td>\n",
       "    </tr>\n",
       "    <tr>\n",
       "      <th>mean</th>\n",
       "      <td>18152.995319</td>\n",
       "      <td>0.0</td>\n",
       "      <td>0.263194</td>\n",
       "      <td>3.464881</td>\n",
       "      <td>0.200753</td>\n",
       "      <td>3.473435</td>\n",
       "      <td>1.092102</td>\n",
       "      <td>1.889488e+08</td>\n",
       "      <td>371.846048</td>\n",
       "    </tr>\n",
       "    <tr>\n",
       "      <th>std</th>\n",
       "      <td>14823.097615</td>\n",
       "      <td>0.0</td>\n",
       "      <td>0.291208</td>\n",
       "      <td>3.511239</td>\n",
       "      <td>0.672092</td>\n",
       "      <td>2.444280</td>\n",
       "      <td>0.534937</td>\n",
       "      <td>8.030443e+07</td>\n",
       "      <td>1078.178157</td>\n",
       "    </tr>\n",
       "    <tr>\n",
       "      <th>min</th>\n",
       "      <td>4904.000000</td>\n",
       "      <td>0.0</td>\n",
       "      <td>0.000000</td>\n",
       "      <td>0.000000</td>\n",
       "      <td>-0.750000</td>\n",
       "      <td>0.000000</td>\n",
       "      <td>1.000000</td>\n",
       "      <td>1.110000e+08</td>\n",
       "      <td>1.000000</td>\n",
       "    </tr>\n",
       "    <tr>\n",
       "      <th>25%</th>\n",
       "      <td>4904.000000</td>\n",
       "      <td>0.0</td>\n",
       "      <td>0.094900</td>\n",
       "      <td>1.270000</td>\n",
       "      <td>0.000000</td>\n",
       "      <td>1.500000</td>\n",
       "      <td>1.000000</td>\n",
       "      <td>1.120000e+08</td>\n",
       "      <td>64.000000</td>\n",
       "    </tr>\n",
       "    <tr>\n",
       "      <th>50%</th>\n",
       "      <td>12631.000000</td>\n",
       "      <td>0.0</td>\n",
       "      <td>0.150700</td>\n",
       "      <td>2.100000</td>\n",
       "      <td>0.000000</td>\n",
       "      <td>2.100000</td>\n",
       "      <td>1.000000</td>\n",
       "      <td>1.740000e+08</td>\n",
       "      <td>276.000000</td>\n",
       "    </tr>\n",
       "    <tr>\n",
       "      <th>75%</th>\n",
       "      <td>20974.000000</td>\n",
       "      <td>0.0</td>\n",
       "      <td>0.444700</td>\n",
       "      <td>5.500000</td>\n",
       "      <td>0.130000</td>\n",
       "      <td>5.500000</td>\n",
       "      <td>1.000000</td>\n",
       "      <td>2.210001e+08</td>\n",
       "      <td>280.000000</td>\n",
       "    </tr>\n",
       "    <tr>\n",
       "      <th>max</th>\n",
       "      <td>46673.000000</td>\n",
       "      <td>0.0</td>\n",
       "      <td>43.031200</td>\n",
       "      <td>506.250000</td>\n",
       "      <td>29.250000</td>\n",
       "      <td>60.000000</td>\n",
       "      <td>75.000000</td>\n",
       "      <td>4.110002e+08</td>\n",
       "      <td>10067.000000</td>\n",
       "    </tr>\n",
       "  </tbody>\n",
       "</table>\n",
       "</div>"
      ],
      "text/plain": [
       "        StoreNumber  TaxInclusiveAmount     TaxAmount  AdjustedPrice  \\\n",
       "count  91431.000000             91431.0  91431.000000   91431.000000   \n",
       "mean   18152.995319                 0.0      0.263194       3.464881   \n",
       "std    14823.097615                 0.0      0.291208       3.511239   \n",
       "min     4904.000000                 0.0      0.000000       0.000000   \n",
       "25%     4904.000000                 0.0      0.094900       1.270000   \n",
       "50%    12631.000000                 0.0      0.150700       2.100000   \n",
       "75%    20974.000000                 0.0      0.444700       5.500000   \n",
       "max    46673.000000                 0.0     43.031200     506.250000   \n",
       "\n",
       "       DiscountAmount         Price      Quantity           PLU            Id  \n",
       "count    91431.000000  91431.000000  91431.000000  9.143100e+04  91431.000000  \n",
       "mean         0.200753      3.473435      1.092102  1.889488e+08    371.846048  \n",
       "std          0.672092      2.444280      0.534937  8.030443e+07   1078.178157  \n",
       "min         -0.750000      0.000000      1.000000  1.110000e+08      1.000000  \n",
       "25%          0.000000      1.500000      1.000000  1.120000e+08     64.000000  \n",
       "50%          0.000000      2.100000      1.000000  1.740000e+08    276.000000  \n",
       "75%          0.130000      5.500000      1.000000  2.210001e+08    280.000000  \n",
       "max         29.250000     60.000000     75.000000  4.110002e+08  10067.000000  "
      ]
     },
     "execution_count": 15,
     "metadata": {},
     "output_type": "execute_result"
    }
   ],
   "source": [
    "df[columns_num].describe()"
   ]
  },
  {
   "cell_type": "code",
   "execution_count": 16,
   "metadata": {},
   "outputs": [
    {
     "data": {
      "text/plain": [
       "0"
      ]
     },
     "execution_count": 16,
     "metadata": {},
     "output_type": "execute_result"
    }
   ],
   "source": [
    "# Trường TaxInclusiveAmount tất cả dữ liệu bằng 0 -> xoá\n",
    "df['TaxInclusiveAmount'].sum()"
   ]
  },
  {
   "cell_type": "code",
   "execution_count": 53,
   "metadata": {},
   "outputs": [
    {
     "data": {
      "text/html": [
       "<div>\n",
       "<style scoped>\n",
       "    .dataframe tbody tr th:only-of-type {\n",
       "        vertical-align: middle;\n",
       "    }\n",
       "\n",
       "    .dataframe tbody tr th {\n",
       "        vertical-align: top;\n",
       "    }\n",
       "\n",
       "    .dataframe thead th {\n",
       "        text-align: right;\n",
       "    }\n",
       "</style>\n",
       "<table border=\"1\" class=\"dataframe\">\n",
       "  <thead>\n",
       "    <tr style=\"text-align: right;\">\n",
       "      <th></th>\n",
       "      <th>MD5KEY_MENUITEM</th>\n",
       "      <th>MD5KEY_ORDERSALE</th>\n",
       "      <th>CategoryDescription</th>\n",
       "      <th>DepartmentDescription</th>\n",
       "      <th>Description</th>\n",
       "      <th>StoreNumber</th>\n",
       "      <th>TaxAmount</th>\n",
       "      <th>AdjustedPrice</th>\n",
       "      <th>DiscountAmount</th>\n",
       "      <th>Price</th>\n",
       "      <th>Quantity</th>\n",
       "      <th>PLU</th>\n",
       "      <th>Id</th>\n",
       "      <th>date</th>\n",
       "      <th>SalesAmount</th>\n",
       "    </tr>\n",
       "  </thead>\n",
       "  <tbody>\n",
       "  </tbody>\n",
       "</table>\n",
       "</div>"
      ],
      "text/plain": [
       "Empty DataFrame\n",
       "Columns: [MD5KEY_MENUITEM, MD5KEY_ORDERSALE, CategoryDescription, DepartmentDescription, Description, StoreNumber, TaxAmount, AdjustedPrice, DiscountAmount, Price, Quantity, PLU, Id, date, SalesAmount]\n",
       "Index: []"
      ]
     },
     "execution_count": 53,
     "metadata": {},
     "output_type": "execute_result"
    }
   ],
   "source": [
    "# Sản phẩm có giá bằng 0 -> xoá\n",
    "df[df['Price'] == 0]"
   ]
  },
  {
   "cell_type": "code",
   "execution_count": 38,
   "metadata": {},
   "outputs": [
    {
     "data": {
      "text/plain": [
       "MD5KEY_MENUITEM          180\n",
       "MD5KEY_ORDERSALE         180\n",
       "CategoryDescription      180\n",
       "DepartmentDescription    180\n",
       "Description              180\n",
       "StoreNumber              180\n",
       "TaxAmount                180\n",
       "AdjustedPrice            180\n",
       "DiscountAmount           180\n",
       "Price                    180\n",
       "Quantity                 180\n",
       "PLU                      180\n",
       "Id                       180\n",
       "date                     180\n",
       "SalesAmount              180\n",
       "dtype: int64"
      ]
     },
     "execution_count": 38,
     "metadata": {},
     "output_type": "execute_result"
    }
   ],
   "source": [
    "df[df['CategoryDescription'] == 'Hot Beverage'].count()"
   ]
  },
  {
   "cell_type": "code",
   "execution_count": 32,
   "metadata": {},
   "outputs": [
    {
     "data": {
      "text/html": [
       "<div>\n",
       "<style scoped>\n",
       "    .dataframe tbody tr th:only-of-type {\n",
       "        vertical-align: middle;\n",
       "    }\n",
       "\n",
       "    .dataframe tbody tr th {\n",
       "        vertical-align: top;\n",
       "    }\n",
       "\n",
       "    .dataframe thead th {\n",
       "        text-align: right;\n",
       "    }\n",
       "</style>\n",
       "<table border=\"1\" class=\"dataframe\">\n",
       "  <thead>\n",
       "    <tr style=\"text-align: right;\">\n",
       "      <th></th>\n",
       "      <th>StoreNumber</th>\n",
       "      <th>TaxAmount</th>\n",
       "      <th>AdjustedPrice</th>\n",
       "      <th>DiscountAmount</th>\n",
       "      <th>Price</th>\n",
       "      <th>Quantity</th>\n",
       "      <th>PLU</th>\n",
       "      <th>Id</th>\n",
       "      <th>SalesAmount</th>\n",
       "    </tr>\n",
       "  </thead>\n",
       "  <tbody>\n",
       "    <tr>\n",
       "      <th>count</th>\n",
       "      <td>91430.000000</td>\n",
       "      <td>91430.000000</td>\n",
       "      <td>91430.000000</td>\n",
       "      <td>91430.000000</td>\n",
       "      <td>91430.000000</td>\n",
       "      <td>91430.000000</td>\n",
       "      <td>9.143000e+04</td>\n",
       "      <td>91430.000000</td>\n",
       "      <td>91430.000000</td>\n",
       "    </tr>\n",
       "    <tr>\n",
       "      <th>mean</th>\n",
       "      <td>18153.140227</td>\n",
       "      <td>0.263197</td>\n",
       "      <td>3.464919</td>\n",
       "      <td>0.200755</td>\n",
       "      <td>3.473473</td>\n",
       "      <td>1.092103</td>\n",
       "      <td>1.889484e+08</td>\n",
       "      <td>371.843410</td>\n",
       "      <td>4.622403</td>\n",
       "    </tr>\n",
       "    <tr>\n",
       "      <th>std</th>\n",
       "      <td>14823.113917</td>\n",
       "      <td>0.291208</td>\n",
       "      <td>3.511240</td>\n",
       "      <td>0.672095</td>\n",
       "      <td>2.444266</td>\n",
       "      <td>0.534940</td>\n",
       "      <td>8.030474e+07</td>\n",
       "      <td>1078.183758</td>\n",
       "      <td>136.819293</td>\n",
       "    </tr>\n",
       "    <tr>\n",
       "      <th>min</th>\n",
       "      <td>4904.000000</td>\n",
       "      <td>0.000000</td>\n",
       "      <td>0.000000</td>\n",
       "      <td>-0.750000</td>\n",
       "      <td>0.050000</td>\n",
       "      <td>1.000000</td>\n",
       "      <td>1.110000e+08</td>\n",
       "      <td>1.000000</td>\n",
       "      <td>0.000000</td>\n",
       "    </tr>\n",
       "    <tr>\n",
       "      <th>25%</th>\n",
       "      <td>4904.000000</td>\n",
       "      <td>0.094900</td>\n",
       "      <td>1.270000</td>\n",
       "      <td>0.000000</td>\n",
       "      <td>1.500000</td>\n",
       "      <td>1.000000</td>\n",
       "      <td>1.120000e+08</td>\n",
       "      <td>64.000000</td>\n",
       "      <td>1.420000</td>\n",
       "    </tr>\n",
       "    <tr>\n",
       "      <th>50%</th>\n",
       "      <td>12631.000000</td>\n",
       "      <td>0.150700</td>\n",
       "      <td>2.100000</td>\n",
       "      <td>0.000000</td>\n",
       "      <td>2.100000</td>\n",
       "      <td>1.000000</td>\n",
       "      <td>1.740000e+08</td>\n",
       "      <td>276.000000</td>\n",
       "      <td>2.830000</td>\n",
       "    </tr>\n",
       "    <tr>\n",
       "      <th>75%</th>\n",
       "      <td>20974.000000</td>\n",
       "      <td>0.444700</td>\n",
       "      <td>5.500000</td>\n",
       "      <td>0.130000</td>\n",
       "      <td>5.500000</td>\n",
       "      <td>1.000000</td>\n",
       "      <td>2.210001e+08</td>\n",
       "      <td>280.000000</td>\n",
       "      <td>5.500000</td>\n",
       "    </tr>\n",
       "    <tr>\n",
       "      <th>max</th>\n",
       "      <td>46673.000000</td>\n",
       "      <td>43.031200</td>\n",
       "      <td>506.250000</td>\n",
       "      <td>29.250000</td>\n",
       "      <td>60.000000</td>\n",
       "      <td>75.000000</td>\n",
       "      <td>4.110002e+08</td>\n",
       "      <td>10067.000000</td>\n",
       "      <td>37968.750000</td>\n",
       "    </tr>\n",
       "  </tbody>\n",
       "</table>\n",
       "</div>"
      ],
      "text/plain": [
       "        StoreNumber     TaxAmount  AdjustedPrice  DiscountAmount  \\\n",
       "count  91430.000000  91430.000000   91430.000000    91430.000000   \n",
       "mean   18153.140227      0.263197       3.464919        0.200755   \n",
       "std    14823.113917      0.291208       3.511240        0.672095   \n",
       "min     4904.000000      0.000000       0.000000       -0.750000   \n",
       "25%     4904.000000      0.094900       1.270000        0.000000   \n",
       "50%    12631.000000      0.150700       2.100000        0.000000   \n",
       "75%    20974.000000      0.444700       5.500000        0.130000   \n",
       "max    46673.000000     43.031200     506.250000       29.250000   \n",
       "\n",
       "              Price      Quantity           PLU            Id   SalesAmount  \n",
       "count  91430.000000  91430.000000  9.143000e+04  91430.000000  91430.000000  \n",
       "mean       3.473473      1.092103  1.889484e+08    371.843410      4.622403  \n",
       "std        2.444266      0.534940  8.030474e+07   1078.183758    136.819293  \n",
       "min        0.050000      1.000000  1.110000e+08      1.000000      0.000000  \n",
       "25%        1.500000      1.000000  1.120000e+08     64.000000      1.420000  \n",
       "50%        2.100000      1.000000  1.740000e+08    276.000000      2.830000  \n",
       "75%        5.500000      1.000000  2.210001e+08    280.000000      5.500000  \n",
       "max       60.000000     75.000000  4.110002e+08  10067.000000  37968.750000  "
      ]
     },
     "execution_count": 32,
     "metadata": {},
     "output_type": "execute_result"
    }
   ],
   "source": [
    "# Sau khi loại bỏ price = 0\n",
    "df[columns_num].describe()"
   ]
  },
  {
   "cell_type": "markdown",
   "metadata": {},
   "source": [
    "# Xử lý dữ liệu"
   ]
  },
  {
   "cell_type": "markdown",
   "metadata": {},
   "source": [
    "## Chuyển dữ liệu trường data: object -> datetime"
   ]
  },
  {
   "cell_type": "code",
   "execution_count": 30,
   "metadata": {},
   "outputs": [],
   "source": [
    "# Convert the date column to the datetime data type\n",
    "df['date'] = pd.to_datetime(df['date'], format='%y-%m-%d')"
   ]
  },
  {
   "cell_type": "markdown",
   "metadata": {},
   "source": [
    "## Xử lý khoảng trắng các trường object"
   ]
  },
  {
   "cell_type": "code",
   "execution_count": 33,
   "metadata": {},
   "outputs": [],
   "source": [
    "df = data_cleaning.remove_whitespace(df)"
   ]
  },
  {
   "cell_type": "markdown",
   "metadata": {},
   "source": [
    "## Thêm trường giá mua hàng"
   ]
  },
  {
   "cell_type": "code",
   "execution_count": 20,
   "metadata": {},
   "outputs": [],
   "source": [
    "df['SalesAmount'] = df['AdjustedPrice'] * df['Quantity']"
   ]
  },
  {
   "cell_type": "markdown",
   "metadata": {},
   "source": [
    "## Xoá các trường và dữ liệu"
   ]
  },
  {
   "cell_type": "code",
   "execution_count": 21,
   "metadata": {},
   "outputs": [],
   "source": [
    "# Xoá cột TaxInclusiveAmount\n",
    "df = df.drop(columns='TaxInclusiveAmount')"
   ]
  },
  {
   "cell_type": "code",
   "execution_count": 22,
   "metadata": {},
   "outputs": [],
   "source": [
    "df = df[~(df['Price'] == 0)]"
   ]
  },
  {
   "cell_type": "markdown",
   "metadata": {},
   "source": [
    "# Lưu trữ file sau khi xử lý"
   ]
  },
  {
   "cell_type": "code",
   "execution_count": 23,
   "metadata": {},
   "outputs": [],
   "source": [
    "\n",
    "# current_date = datetime.now().strftime(\"%Y%m%d\")\n",
    "# parent_dir = \"/Users/sonnguyen/Dropbox/My Mac (Son’s MacBook Air)/Documents/1. Data Analytics/CoderSchool/FinalProject/data/processed\" \n",
    "\n",
    "# # Tạo đường dẫn đầy đủ cho thư mục mới\n",
    "# new_folder_path = os.path.join(parent_dir, current_date)\n",
    "\n",
    "# # Kiểm tra xem thư mục đã tồn tại chưa, nếu chưa thì tạo mới\n",
    "# if not os.path.exists(new_folder_path):\n",
    "#     os.makedirs(new_folder_path)\n",
    "#     print(f\"Thư mục '{new_folder_path}' đã được tạo thành công!\")\n",
    "# else:\n",
    "#     print(f\"Thư mục '{new_folder_path}' đã tồn tại.\")\n",
    "\n",
    "# df.to_csv(f'{new_folder_path}/menuitem_{current_date}.csv', index=False)"
   ]
  }
 ],
 "metadata": {
  "kernelspec": {
   "display_name": "Python 3",
   "language": "python",
   "name": "python3"
  },
  "language_info": {
   "codemirror_mode": {
    "name": "ipython",
    "version": 3
   },
   "file_extension": ".py",
   "mimetype": "text/x-python",
   "name": "python",
   "nbconvert_exporter": "python",
   "pygments_lexer": "ipython3",
   "version": "3.11.1"
  }
 },
 "nbformat": 4,
 "nbformat_minor": 2
}
