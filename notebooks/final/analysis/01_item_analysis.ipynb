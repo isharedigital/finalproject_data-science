{
 "cells": [
  {
   "cell_type": "markdown",
   "metadata": {},
   "source": [
    "# Hiệu suất của từng món ăn\n",
    "\n",
    "## Dữ liệu cần thiết:\n",
    "- Tên món ăn\n",
    "- Danh mục món ăn\n",
    "- Số lượng bán\n",
    "- Doanh thu\n",
    "- Ngày bán\n",
    "## Các cột tính toán thêm:\n",
    "- Doanh thu trung bình mỗi món\n",
    "- Xếp hạng món ăn theo số lượng bán và doanh thu\n",
    "- Tỷ lệ món ăn trong tổng doanh thu\n",
    "- Xu hướng tiêu thụ theo ngày (ví dụ: món nào bán chạy nhất vào thứ Hai)\n",
    "## Phương pháp:\n",
    "Sử dụng Pivot Table và Pivot Chart để phân tích xu hướng theo thời gian và so sánh hiệu suất giữa các món ăn.\n",
    "Sử dụng biểu đồ Pareto để xác định 20% món ăn tạo ra 80% doanh thu."
   ]
  },
  {
   "cell_type": "code",
   "execution_count": 19,
   "metadata": {},
   "outputs": [],
   "source": [
    "import pandas as pd\n",
    "import matplotlib.pyplot as plt\n",
    "import seaborn as sns\n",
    "from datetime import datetime\n",
    "\n",
    "import sys\n",
    "import os\n",
    "sys.path.append('../../../scripts/')\n",
    "import data_cleaning"
   ]
  },
  {
   "cell_type": "markdown",
   "metadata": {},
   "source": [
    "# 1. Import data"
   ]
  },
  {
   "cell_type": "markdown",
   "metadata": {},
   "source": [
    "## 1.1 Import"
   ]
  },
  {
   "cell_type": "code",
   "execution_count": 20,
   "metadata": {},
   "outputs": [],
   "source": [
    "df_menuitem = pd.read_csv(\"../../../data/processed/20240722/2.menuitem_20240722.csv\")\n",
    "df_ordersale = pd.read_csv(\"../../../data/processed/20240722/1.pos_ordersale_20240722.csv\")\n",
    "df_store = pd.read_csv(\"../../../data/processed/20240722/3.store_restaurant_20240722.csv\")\n",
    "df_menu_items = pd.read_csv(\"../../../data/processed/20240722/4.menu_items_20240722.csv\")"
   ]
  },
  {
   "cell_type": "code",
   "execution_count": 21,
   "metadata": {},
   "outputs": [
    {
     "data": {
      "text/html": [
       "<div>\n",
       "<style scoped>\n",
       "    .dataframe tbody tr th:only-of-type {\n",
       "        vertical-align: middle;\n",
       "    }\n",
       "\n",
       "    .dataframe tbody tr th {\n",
       "        vertical-align: top;\n",
       "    }\n",
       "\n",
       "    .dataframe thead th {\n",
       "        text-align: right;\n",
       "    }\n",
       "</style>\n",
       "<table border=\"1\" class=\"dataframe\">\n",
       "  <thead>\n",
       "    <tr style=\"text-align: right;\">\n",
       "      <th></th>\n",
       "      <th>MenuItemName</th>\n",
       "      <th>MenuItemDescription</th>\n",
       "      <th>PLU</th>\n",
       "      <th>MenuItemId</th>\n",
       "      <th>RecipeId</th>\n",
       "    </tr>\n",
       "  </thead>\n",
       "  <tbody>\n",
       "    <tr>\n",
       "      <th>0</th>\n",
       "      <td>FtL/Ham</td>\n",
       "      <td>Ham FtLong</td>\n",
       "      <td>111000004</td>\n",
       "      <td>1</td>\n",
       "      <td>6</td>\n",
       "    </tr>\n",
       "    <tr>\n",
       "      <th>1</th>\n",
       "      <td>Six/Ham</td>\n",
       "      <td>Ham 6 inch</td>\n",
       "      <td>121000004</td>\n",
       "      <td>2</td>\n",
       "      <td>7</td>\n",
       "    </tr>\n",
       "    <tr>\n",
       "      <th>2</th>\n",
       "      <td>FfB/Ham</td>\n",
       "      <td>Ham FtFbd</td>\n",
       "      <td>112000004</td>\n",
       "      <td>3</td>\n",
       "      <td>2</td>\n",
       "    </tr>\n",
       "    <tr>\n",
       "      <th>3</th>\n",
       "      <td>fBd/Ham</td>\n",
       "      <td>Ham FlatBd</td>\n",
       "      <td>122000004</td>\n",
       "      <td>4</td>\n",
       "      <td>8</td>\n",
       "    </tr>\n",
       "    <tr>\n",
       "      <th>4</th>\n",
       "      <td>Sld/Ham</td>\n",
       "      <td>Ham Salad</td>\n",
       "      <td>131000004</td>\n",
       "      <td>5</td>\n",
       "      <td>9</td>\n",
       "    </tr>\n",
       "  </tbody>\n",
       "</table>\n",
       "</div>"
      ],
      "text/plain": [
       "  MenuItemName MenuItemDescription        PLU  MenuItemId  RecipeId\n",
       "0      FtL/Ham          Ham FtLong  111000004           1         6\n",
       "1      Six/Ham          Ham 6 inch  121000004           2         7\n",
       "2      FfB/Ham           Ham FtFbd  112000004           3         2\n",
       "3      fBd/Ham          Ham FlatBd  122000004           4         8\n",
       "4      Sld/Ham           Ham Salad  131000004           5         9"
      ]
     },
     "execution_count": 21,
     "metadata": {},
     "output_type": "execute_result"
    }
   ],
   "source": [
    "df_menuitem.head()\n",
    "df_ordersale.head()\n",
    "df_store.head()\n",
    "df_menu_items.head()"
   ]
  },
  {
   "cell_type": "markdown",
   "metadata": {},
   "source": [
    "## 1.2 Merge"
   ]
  },
  {
   "cell_type": "code",
   "execution_count": 22,
   "metadata": {},
   "outputs": [
    {
     "data": {
      "text/plain": [
       "Index(['MD5KEY_ORDERSALE', 'ChangeReceived', 'OrderNumber', 'TaxAmount',\n",
       "       'MealLocation', 'TransactionId', 'StoreNumber', 'date'],\n",
       "      dtype='object')"
      ]
     },
     "execution_count": 22,
     "metadata": {},
     "output_type": "execute_result"
    }
   ],
   "source": [
    "df_ordersale.columns"
   ]
  },
  {
   "cell_type": "code",
   "execution_count": 23,
   "metadata": {},
   "outputs": [
    {
     "data": {
      "text/plain": [
       "Index(['MD5KEY_MENUITEM', 'MD5KEY_ORDERSALE', 'CategoryDescription',\n",
       "       'DepartmentDescription', 'Description', 'StoreNumber', 'TaxAmount',\n",
       "       'AdjustedPrice', 'DiscountAmount', 'Price', 'Quantity', 'PLU', 'Id',\n",
       "       'date', 'SalesAmount', 'day_of_week'],\n",
       "      dtype='object')"
      ]
     },
     "execution_count": 23,
     "metadata": {},
     "output_type": "execute_result"
    }
   ],
   "source": [
    "df_menuitem.columns"
   ]
  },
  {
   "cell_type": "code",
   "execution_count": 24,
   "metadata": {},
   "outputs": [
    {
     "data": {
      "text/plain": [
       "Index(['STORE_ADDRESS1', 'DISTRIBUTION_REGION', 'STORE_STATE', 'STORE_CITY',\n",
       "       'STORE_ZIP', 'STORE_TYPE', 'STORE_LOYALTY_FLAG', 'STORE_NUMBER'],\n",
       "      dtype='object')"
      ]
     },
     "execution_count": 24,
     "metadata": {},
     "output_type": "execute_result"
    }
   ],
   "source": [
    "df_store.columns"
   ]
  },
  {
   "cell_type": "code",
   "execution_count": 25,
   "metadata": {},
   "outputs": [
    {
     "data": {
      "text/plain": [
       "Index(['MenuItemName', 'MenuItemDescription', 'PLU', 'MenuItemId', 'RecipeId'], dtype='object')"
      ]
     },
     "execution_count": 25,
     "metadata": {},
     "output_type": "execute_result"
    }
   ],
   "source": [
    "df_menu_items.columns"
   ]
  },
  {
   "cell_type": "code",
   "execution_count": 26,
   "metadata": {},
   "outputs": [],
   "source": [
    "df = pd.merge(df_ordersale, df_menuitem, on=\"MD5KEY_ORDERSALE\", how=\"left\")\n"
   ]
  },
  {
   "cell_type": "code",
   "execution_count": 29,
   "metadata": {},
   "outputs": [
    {
     "data": {
      "text/plain": [
       "Index(['MD5KEY_ORDERSALE', 'ChangeReceived', 'OrderNumber', 'TaxAmount_x',\n",
       "       'MealLocation', 'TransactionId', 'StoreNumber_x', 'date_x',\n",
       "       'MD5KEY_MENUITEM', 'CategoryDescription', 'DepartmentDescription',\n",
       "       'Description', 'StoreNumber_y', 'TaxAmount_y', 'AdjustedPrice',\n",
       "       'DiscountAmount', 'Price', 'Quantity', 'PLU', 'Id', 'date_y',\n",
       "       'SalesAmount', 'day_of_week'],\n",
       "      dtype='object')"
      ]
     },
     "execution_count": 29,
     "metadata": {},
     "output_type": "execute_result"
    }
   ],
   "source": [
    "df.columns"
   ]
  },
  {
   "cell_type": "code",
   "execution_count": 34,
   "metadata": {},
   "outputs": [],
   "source": [
    "df = pd.merge(df, df_store, left_on=\"StoreNumber_x\", right_on=\"STORE_NUMBER\", how=\"left\")"
   ]
  },
  {
   "cell_type": "code",
   "execution_count": 35,
   "metadata": {},
   "outputs": [
    {
     "data": {
      "text/plain": [
       "Index(['MD5KEY_ORDERSALE', 'ChangeReceived', 'OrderNumber', 'TaxAmount_x',\n",
       "       'MealLocation', 'TransactionId', 'StoreNumber_x', 'date_x',\n",
       "       'MD5KEY_MENUITEM', 'CategoryDescription', 'DepartmentDescription',\n",
       "       'Description', 'StoreNumber_y', 'TaxAmount_y', 'AdjustedPrice',\n",
       "       'DiscountAmount', 'Price', 'Quantity', 'PLU', 'Id', 'date_y',\n",
       "       'SalesAmount', 'day_of_week', 'STORE_ADDRESS1', 'DISTRIBUTION_REGION',\n",
       "       'STORE_STATE', 'STORE_CITY', 'STORE_ZIP', 'STORE_TYPE',\n",
       "       'STORE_LOYALTY_FLAG', 'STORE_NUMBER'],\n",
       "      dtype='object')"
      ]
     },
     "execution_count": 35,
     "metadata": {},
     "output_type": "execute_result"
    }
   ],
   "source": [
    "df.columns"
   ]
  },
  {
   "cell_type": "code",
   "execution_count": 37,
   "metadata": {},
   "outputs": [],
   "source": [
    "df = pd.merge(df, df_menu_items, left_on=\"Id\", right_on=\"MenuItemId\", how=\"left\")"
   ]
  },
  {
   "cell_type": "code",
   "execution_count": 39,
   "metadata": {},
   "outputs": [
    {
     "name": "stdout",
     "output_type": "stream",
     "text": [
      "422607.57\n",
      "422607.57\n"
     ]
    }
   ],
   "source": [
    "print(df['SalesAmount'].sum())\n",
    "print(df_menuitem['SalesAmount'].sum())"
   ]
  },
  {
   "cell_type": "code",
   "execution_count": 43,
   "metadata": {},
   "outputs": [
    {
     "data": {
      "text/plain": [
       "Index(['MD5KEY_ORDERSALE', 'ChangeReceived', 'OrderNumber', 'TaxAmount_x',\n",
       "       'MealLocation', 'TransactionId', 'StoreNumber_x', 'date_x',\n",
       "       'MD5KEY_MENUITEM', 'CategoryDescription', 'DepartmentDescription',\n",
       "       'Description', 'StoreNumber_y', 'TaxAmount_y', 'AdjustedPrice',\n",
       "       'DiscountAmount', 'Price', 'Quantity', 'PLU_x', 'Id', 'date_y',\n",
       "       'SalesAmount', 'day_of_week', 'STORE_ADDRESS1', 'DISTRIBUTION_REGION',\n",
       "       'STORE_STATE', 'STORE_CITY', 'STORE_ZIP', 'STORE_TYPE',\n",
       "       'STORE_LOYALTY_FLAG', 'STORE_NUMBER', 'MenuItemName',\n",
       "       'MenuItemDescription', 'PLU_y', 'MenuItemId', 'RecipeId'],\n",
       "      dtype='object')"
      ]
     },
     "execution_count": 43,
     "metadata": {},
     "output_type": "execute_result"
    }
   ],
   "source": [
    "df.columns"
   ]
  },
  {
   "cell_type": "markdown",
   "metadata": {},
   "source": [
    "# 2. Thêm các cột\n",
    "- QuantityRank: Xếp hạng số lượng bán\n",
    "- RevenueRank: Xếp hạng doanh thu\n",
    "- RevenuePercentage: tỷ lệ món ăn trong tổng doanh thu"
   ]
  },
  {
   "cell_type": "code",
   "execution_count": 47,
   "metadata": {},
   "outputs": [
    {
     "data": {
      "text/html": [
       "<div>\n",
       "<style scoped>\n",
       "    .dataframe tbody tr th:only-of-type {\n",
       "        vertical-align: middle;\n",
       "    }\n",
       "\n",
       "    .dataframe tbody tr th {\n",
       "        vertical-align: top;\n",
       "    }\n",
       "\n",
       "    .dataframe thead th {\n",
       "        text-align: right;\n",
       "    }\n",
       "</style>\n",
       "<table border=\"1\" class=\"dataframe\">\n",
       "  <thead>\n",
       "    <tr style=\"text-align: right;\">\n",
       "      <th></th>\n",
       "      <th>total_quantity</th>\n",
       "      <th>SalesAmount</th>\n",
       "    </tr>\n",
       "    <tr>\n",
       "      <th>MenuItemName</th>\n",
       "      <th></th>\n",
       "      <th></th>\n",
       "    </tr>\n",
       "  </thead>\n",
       "  <tbody>\n",
       "    <tr>\n",
       "      <th>#NAME?</th>\n",
       "      <td>2075.0</td>\n",
       "      <td>2610.95</td>\n",
       "    </tr>\n",
       "    <tr>\n",
       "      <th>21oz21CDrk</th>\n",
       "      <td>10586.0</td>\n",
       "      <td>16932.57</td>\n",
       "    </tr>\n",
       "    <tr>\n",
       "      <th>30oz30CDrk</th>\n",
       "      <td>1133.0</td>\n",
       "      <td>2133.05</td>\n",
       "    </tr>\n",
       "    <tr>\n",
       "      <th>40oz40CDrk</th>\n",
       "      <td>612.0</td>\n",
       "      <td>1276.78</td>\n",
       "    </tr>\n",
       "    <tr>\n",
       "      <th>6Bf/BcnEgg</th>\n",
       "      <td>47.0</td>\n",
       "      <td>192.44</td>\n",
       "    </tr>\n",
       "    <tr>\n",
       "      <th>...</th>\n",
       "      <td>...</td>\n",
       "      <td>...</td>\n",
       "    </tr>\n",
       "    <tr>\n",
       "      <th>fBd/TrkyHm</th>\n",
       "      <td>2.0</td>\n",
       "      <td>9.51</td>\n",
       "    </tr>\n",
       "    <tr>\n",
       "      <th>fBd/Tuna</th>\n",
       "      <td>30.0</td>\n",
       "      <td>126.91</td>\n",
       "    </tr>\n",
       "    <tr>\n",
       "      <th>fBd/Turkey</th>\n",
       "      <td>70.0</td>\n",
       "      <td>329.21</td>\n",
       "    </tr>\n",
       "    <tr>\n",
       "      <th>fBd/VegPty</th>\n",
       "      <td>13.0</td>\n",
       "      <td>31.50</td>\n",
       "    </tr>\n",
       "    <tr>\n",
       "      <th>fBd/Veggie</th>\n",
       "      <td>27.0</td>\n",
       "      <td>101.21</td>\n",
       "    </tr>\n",
       "  </tbody>\n",
       "</table>\n",
       "<p>267 rows × 2 columns</p>\n",
       "</div>"
      ],
      "text/plain": [
       "              total_quantity  SalesAmount\n",
       "MenuItemName                             \n",
       "#NAME?                2075.0      2610.95\n",
       "21oz21CDrk           10586.0     16932.57\n",
       "30oz30CDrk            1133.0      2133.05\n",
       "40oz40CDrk             612.0      1276.78\n",
       "6Bf/BcnEgg              47.0       192.44\n",
       "...                      ...          ...\n",
       "fBd/TrkyHm               2.0         9.51\n",
       "fBd/Tuna                30.0       126.91\n",
       "fBd/Turkey              70.0       329.21\n",
       "fBd/VegPty              13.0        31.50\n",
       "fBd/Veggie              27.0       101.21\n",
       "\n",
       "[267 rows x 2 columns]"
      ]
     },
     "execution_count": 47,
     "metadata": {},
     "output_type": "execute_result"
    }
   ],
   "source": [
    "item_performance = df.groupby('MenuItemName').agg(\n",
    "  total_quantity=('Quantity', 'sum'),\n",
    "  SalesAmount=('SalesAmount', 'sum')\n",
    ")\n",
    "\n",
    "item_performance"
   ]
  },
  {
   "cell_type": "code",
   "execution_count": null,
   "metadata": {},
   "outputs": [],
   "source": []
  }
 ],
 "metadata": {
  "kernelspec": {
   "display_name": "Python 3",
   "language": "python",
   "name": "python3"
  },
  "language_info": {
   "codemirror_mode": {
    "name": "ipython",
    "version": 3
   },
   "file_extension": ".py",
   "mimetype": "text/x-python",
   "name": "python",
   "nbconvert_exporter": "python",
   "pygments_lexer": "ipython3",
   "version": "3.11.1"
  }
 },
 "nbformat": 4,
 "nbformat_minor": 2
}
